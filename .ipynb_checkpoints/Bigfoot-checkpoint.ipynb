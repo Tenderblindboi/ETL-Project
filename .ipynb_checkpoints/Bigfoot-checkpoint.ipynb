{
 "cells": [
  {
   "cell_type": "code",
   "execution_count": 48,
   "metadata": {},
   "outputs": [],
   "source": [
    "#Import libraries \n",
    "\n",
    "import pandas as pd\n",
    "from sqlalchemy import create_engine\n",
    "import json"
   ]
  },
  {
   "cell_type": "code",
   "execution_count": 49,
   "metadata": {},
   "outputs": [],
   "source": [
    "def intersection(lst1, lst2): \n",
    "    lst3 = [value for value in lst1 if value in lst2] \n",
    "    return lst3 "
   ]
  },
  {
   "cell_type": "code",
   "execution_count": 50,
   "metadata": {},
   "outputs": [],
   "source": [
    "#Store Data in Dataframe\n",
    "\n",
    "csv_loc = \"Resources/bfro_report_locations.csv\"\n",
    "csv_geo = \"Resources/bfro_reports_geocoded.csv\"\n",
    "json_file = \"Resources/bfro_reports.json\"\n",
    "\n",
    "\n",
    "bigfoot_locations_df = pd.read_csv(csv_loc)\n",
    "bigfoot_geo_df = pd.read_csv(csv_geo)\n",
    "#bfro_rep_df = pd.read_json(json_file)\n",
    "\n"
   ]
  },
  {
   "cell_type": "code",
   "execution_count": 51,
   "metadata": {},
   "outputs": [],
   "source": [
    "#list of columns from dataframes\n",
    "\n",
    "bigfoot_locations_df.head()\n",
    "list_loc=[]\n",
    "for col in bigfoot_locations_df.columns: \n",
    "    list_loc.append(col) \n"
   ]
  },
  {
   "cell_type": "code",
   "execution_count": 52,
   "metadata": {},
   "outputs": [],
   "source": [
    "#bigfoot_geo_df.head()\n",
    "list_geo=[]\n",
    "for col in bigfoot_geo_df.columns: \n",
    "    list_geo.append(col) \n",
    "    \n"
   ]
  },
  {
   "cell_type": "code",
   "execution_count": 53,
   "metadata": {},
   "outputs": [],
   "source": [
    "inter=intersection(list_geo, list_loc)"
   ]
  },
  {
   "cell_type": "code",
   "execution_count": 55,
   "metadata": {},
   "outputs": [
    {
     "name": "stderr",
     "output_type": "stream",
     "text": [
      "C:\\Users\\rohan\\Anaconda3\\lib\\site-packages\\ipykernel_launcher.py:4: FutureWarning: Sorting because non-concatenation axis is not aligned. A future version\n",
      "of pandas will change to not sort by default.\n",
      "\n",
      "To accept the future behavior, pass 'sort=False'.\n",
      "\n",
      "To retain the current behavior and silence the warning, pass 'sort=True'.\n",
      "\n",
      "  after removing the cwd from sys.path.\n"
     ]
    }
   ],
   "source": [
    "ye=bigfoot_geo_df[inter]\n",
    "ye=ye[['number','title','classification','latitude','longitude']]\n",
    "ye.head()\n",
    "final=pd.concat([ye,bigfoot_locations_df])\n"
   ]
  },
  {
   "cell_type": "code",
   "execution_count": 47,
   "metadata": {},
   "outputs": [
    {
     "name": "stdout",
     "output_type": "stream",
     "text": [
      "3807\n",
      "4747\n",
      "3994\n"
     ]
    }
   ],
   "source": [
    "#bfro_rep_df.head()\n",
    "\n",
    "yeet=ye['number'].tolist()\n",
    "meet=bigfoot_locations_df['number'].tolist()\n",
    "jeek=intersection(yeet,meet)\n",
    "print(len(jeek))\n",
    "print(len(yeet))\n",
    "print(len(meet))"
   ]
  },
  {
   "cell_type": "code",
   "execution_count": null,
   "metadata": {},
   "outputs": [],
   "source": []
  },
  {
   "cell_type": "code",
   "execution_count": null,
   "metadata": {},
   "outputs": [],
   "source": []
  }
 ],
 "metadata": {
  "kernelspec": {
   "display_name": "Python 3",
   "language": "python",
   "name": "python3"
  },
  "language_info": {
   "codemirror_mode": {
    "name": "ipython",
    "version": 3
   },
   "file_extension": ".py",
   "mimetype": "text/x-python",
   "name": "python",
   "nbconvert_exporter": "python",
   "pygments_lexer": "ipython3",
   "version": "3.6.5"
  }
 },
 "nbformat": 4,
 "nbformat_minor": 2
}
