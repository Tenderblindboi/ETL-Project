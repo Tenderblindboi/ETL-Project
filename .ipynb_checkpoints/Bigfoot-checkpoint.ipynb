{
 "cells": [
  {
   "cell_type": "code",
   "execution_count": 5,
   "metadata": {},
   "outputs": [],
   "source": [
    "#Import libraries \n",
    "\n",
    "import pandas as pd\n",
    "from sqlalchemy import create_engine\n",
    "import json"
   ]
  },
  {
   "cell_type": "code",
   "execution_count": 6,
   "metadata": {},
   "outputs": [],
   "source": [
    "def intersection(lst1, lst2): \n",
    "    lst3 = [value for value in lst1 if value in lst2] \n",
    "    return lst3 "
   ]
  },
  {
   "cell_type": "code",
   "execution_count": 7,
   "metadata": {},
   "outputs": [],
   "source": [
    "#Store Data in Dataframe\n",
    "\n",
    "csv_loc = \"Resources/bfro_report_locations.csv\"\n",
    "csv_geo = \"Resources/bfro_reports_geocoded.csv\"\n",
    "json_file = \"Resources/bfro_reports.json\"\n",
    "\n",
    "\n",
    "bigfoot_locations_df = pd.read_csv(csv_loc)\n",
    "bigfoot_geo_df = pd.read_csv(csv_geo)\n",
    "#bfro_rep_df = pd.read_json(json_file)\n",
    "\n"
   ]
  },
  {
   "cell_type": "code",
   "execution_count": 8,
   "metadata": {},
   "outputs": [],
   "source": [
    "#list of columns from dataframes\n",
    "\n",
    "bigfoot_locations_df.head()\n",
    "list_loc=[]\n",
    "for col in bigfoot_locations_df.columns: \n",
    "    list_loc.append(col) \n"
   ]
  },
  {
   "cell_type": "code",
   "execution_count": 9,
   "metadata": {},
   "outputs": [],
   "source": [
    "#bigfoot_geo_df.head()\n",
    "list_geo=[]\n",
    "for col in bigfoot_geo_df.columns: \n",
    "    list_geo.append(col) \n",
    "    \n"
   ]
  },
  {
   "cell_type": "code",
   "execution_count": 10,
   "metadata": {},
   "outputs": [],
   "source": [
    "inter=intersection(list_geo, list_loc)"
   ]
  },
  {
   "cell_type": "code",
   "execution_count": 11,
   "metadata": {},
   "outputs": [],
   "source": [
    "bf_geo=bigfoot_geo_df[inter]\n",
    "bf_geo=bf_geo[['number','title','classification','latitude','longitude']]\n",
    "\n",
    "#final=pd.concat([ye,bigfoot_locations_df])\n"
   ]
  },
  {
   "cell_type": "code",
   "execution_count": 13,
   "metadata": {
    "scrolled": false
   },
   "outputs": [
    {
     "name": "stdout",
     "output_type": "stream",
     "text": [
      "4747\n",
      "3994\n",
      "3807\n"
     ]
    }
   ],
   "source": [
    "#bfro_rep_df.head()\n",
    "\n",
    "geo_nums=bf_geo['number'].tolist()\n",
    "loc_nums=bigfoot_locations_df['number'].tolist()\n",
    "intr_nums=intersection(geo_nums,loc_nums)\n",
    "print(len(geo_nums))\n",
    "print(len(loc_nums))\n",
    "print(len(intr_nums))"
   ]
  },
  {
   "cell_type": "code",
   "execution_count": null,
   "metadata": {},
   "outputs": [],
   "source": []
  },
  {
   "cell_type": "code",
   "execution_count": null,
   "metadata": {},
   "outputs": [],
   "source": []
  }
 ],
 "metadata": {
  "kernelspec": {
   "display_name": "Python 3",
   "language": "python",
   "name": "python3"
  },
  "language_info": {
   "codemirror_mode": {
    "name": "ipython",
    "version": 3
   },
   "file_extension": ".py",
   "mimetype": "text/x-python",
   "name": "python",
   "nbconvert_exporter": "python",
   "pygments_lexer": "ipython3",
   "version": "3.6.5"
  }
 },
 "nbformat": 4,
 "nbformat_minor": 2
}
